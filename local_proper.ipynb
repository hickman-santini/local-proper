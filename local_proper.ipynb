{
 "cells": [
  {
   "cell_type": "code",
   "execution_count": 1,
   "metadata": {},
   "outputs": [],
   "source": [
    "import random\n",
    "import math\n",
    "\n",
    "import matplotlib.pyplot as plt\n",
    "import numpy as np\n",
    "import pandas as pd"
   ]
  },
  {
   "cell_type": "code",
   "execution_count": 29,
   "metadata": {},
   "outputs": [],
   "source": [
    "def exp_ign(P):\n",
    "    return - P * math.log(P, 2) - (1-P) * math.log(1-P, 2)\n",
    "\n",
    "# Assuming some values for governing_prob, forecast_prob, and num_people\n",
    "governing_prob = 0.97\n",
    "forecast_prob = 0.999\n",
    "\n",
    "def simulate_person(governing_prob, forecast_prob, N):\n",
    "    log_scores = []\n",
    "    for _ in range(N):\n",
    "        outcome = random.random() < governing_prob\n",
    "        log_score = math.log(forecast_prob, 2) if outcome else math.log(1 - forecast_prob, 2)\n",
    "        log_scores.append(log_score)\n",
    "    # For each N, I want the average log score up to that N: a list of averages\n",
    "    return np.cumsum(log_scores) / np.arange(1, N+1)"
   ]
  },
  {
   "cell_type": "code",
   "execution_count": 4,
   "metadata": {},
   "outputs": [
    {
     "data": {
      "text/plain": [
       "array([1. , 1.5, 2. , 2.5])"
      ]
     },
     "execution_count": 4,
     "metadata": {},
     "output_type": "execute_result"
    }
   ],
   "source": [
    "np.cumsum([1,2,3,4]) / np.arange(1, 5)"
   ]
  },
  {
   "cell_type": "code",
   "execution_count": 30,
   "metadata": {},
   "outputs": [],
   "source": [
    "medians = []\n",
    "means = []\n",
    "percentiles = []\n",
    "\n",
    "N = 40\n",
    "num_people = 500\n",
    "\n",
    "# Many worlds\n",
    "for world in range(1, num_people):\n",
    "    # Simulate num_people and calculate the log scores\n",
    "    log_scores = [simulate_person(governing_prob, forecast_prob, N) for _ in range(num_people)]\n",
    "\n",
    "# Make a dataframe where columns are repetitions and rows are people\n",
    "df = pd.DataFrame(log_scores)\n",
    "\n",
    "# For each column (repetition) in df, get the median, mean, and 90th percentile\n",
    "medians = df.median()\n",
    "means = df.mean()\n",
    "percentiles = df.quantile(0.1)"
   ]
  },
  {
   "cell_type": "code",
   "execution_count": null,
   "metadata": {},
   "outputs": [
    {
     "data": {
      "text/html": [
       "<div>\n",
       "<style scoped>\n",
       "    .dataframe tbody tr th:only-of-type {\n",
       "        vertical-align: middle;\n",
       "    }\n",
       "\n",
       "    .dataframe tbody tr th {\n",
       "        vertical-align: top;\n",
       "    }\n",
       "\n",
       "    .dataframe thead th {\n",
       "        text-align: right;\n",
       "    }\n",
       "</style>\n",
       "<table border=\"1\" class=\"dataframe\">\n",
       "  <thead>\n",
       "    <tr style=\"text-align: right;\">\n",
       "      <th></th>\n",
       "      <th>0</th>\n",
       "      <th>1</th>\n",
       "      <th>2</th>\n",
       "      <th>3</th>\n",
       "      <th>4</th>\n",
       "      <th>5</th>\n",
       "      <th>6</th>\n",
       "      <th>7</th>\n",
       "      <th>8</th>\n",
       "      <th>9</th>\n",
       "      <th>...</th>\n",
       "      <th>30</th>\n",
       "      <th>31</th>\n",
       "      <th>32</th>\n",
       "      <th>33</th>\n",
       "      <th>34</th>\n",
       "      <th>35</th>\n",
       "      <th>36</th>\n",
       "      <th>37</th>\n",
       "      <th>38</th>\n",
       "      <th>39</th>\n",
       "    </tr>\n",
       "  </thead>\n",
       "  <tbody>\n",
       "    <tr>\n",
       "      <th>0</th>\n",
       "      <td>-0.001001</td>\n",
       "      <td>-0.001001</td>\n",
       "      <td>-0.001001</td>\n",
       "      <td>-0.001001</td>\n",
       "      <td>-0.001001</td>\n",
       "      <td>-0.001001</td>\n",
       "      <td>-0.001001</td>\n",
       "      <td>-0.001001</td>\n",
       "      <td>-0.001001</td>\n",
       "      <td>-0.691676</td>\n",
       "      <td>...</td>\n",
       "      <td>-0.892195</td>\n",
       "      <td>-0.864345</td>\n",
       "      <td>-0.838183</td>\n",
       "      <td>-0.813560</td>\n",
       "      <td>-0.790344</td>\n",
       "      <td>-0.768418</td>\n",
       "      <td>-0.747677</td>\n",
       "      <td>-0.728027</td>\n",
       "      <td>-0.709386</td>\n",
       "      <td>-0.691676</td>\n",
       "    </tr>\n",
       "    <tr>\n",
       "      <th>1</th>\n",
       "      <td>-0.001001</td>\n",
       "      <td>-0.001001</td>\n",
       "      <td>-0.001001</td>\n",
       "      <td>-0.001001</td>\n",
       "      <td>-0.001001</td>\n",
       "      <td>-0.001001</td>\n",
       "      <td>-0.001001</td>\n",
       "      <td>-0.001001</td>\n",
       "      <td>-0.001001</td>\n",
       "      <td>-0.001001</td>\n",
       "      <td>...</td>\n",
       "      <td>-0.223799</td>\n",
       "      <td>-0.216837</td>\n",
       "      <td>-0.210296</td>\n",
       "      <td>-0.204140</td>\n",
       "      <td>-0.198336</td>\n",
       "      <td>-0.192855</td>\n",
       "      <td>-0.187670</td>\n",
       "      <td>-0.182757</td>\n",
       "      <td>-0.178097</td>\n",
       "      <td>-0.173669</td>\n",
       "    </tr>\n",
       "    <tr>\n",
       "      <th>2</th>\n",
       "      <td>-0.001001</td>\n",
       "      <td>-0.001001</td>\n",
       "      <td>-0.001001</td>\n",
       "      <td>-0.001001</td>\n",
       "      <td>-0.001001</td>\n",
       "      <td>-0.001001</td>\n",
       "      <td>-0.001001</td>\n",
       "      <td>-0.001001</td>\n",
       "      <td>-0.001001</td>\n",
       "      <td>-0.001001</td>\n",
       "      <td>...</td>\n",
       "      <td>-0.001001</td>\n",
       "      <td>-0.001001</td>\n",
       "      <td>-0.001001</td>\n",
       "      <td>-0.001001</td>\n",
       "      <td>-0.001001</td>\n",
       "      <td>-0.001001</td>\n",
       "      <td>-0.001001</td>\n",
       "      <td>-0.001001</td>\n",
       "      <td>-0.001001</td>\n",
       "      <td>-0.001001</td>\n",
       "    </tr>\n",
       "    <tr>\n",
       "      <th>3</th>\n",
       "      <td>-0.001001</td>\n",
       "      <td>-0.001001</td>\n",
       "      <td>-0.001001</td>\n",
       "      <td>-0.001001</td>\n",
       "      <td>-0.001001</td>\n",
       "      <td>-0.001001</td>\n",
       "      <td>-0.001001</td>\n",
       "      <td>-0.001001</td>\n",
       "      <td>-0.001001</td>\n",
       "      <td>-0.001001</td>\n",
       "      <td>...</td>\n",
       "      <td>-0.001001</td>\n",
       "      <td>-0.001001</td>\n",
       "      <td>-0.001001</td>\n",
       "      <td>-0.001001</td>\n",
       "      <td>-0.001001</td>\n",
       "      <td>-0.001001</td>\n",
       "      <td>-0.001001</td>\n",
       "      <td>-0.001001</td>\n",
       "      <td>-0.001001</td>\n",
       "      <td>-0.001001</td>\n",
       "    </tr>\n",
       "    <tr>\n",
       "      <th>4</th>\n",
       "      <td>-0.001001</td>\n",
       "      <td>-0.001001</td>\n",
       "      <td>-0.001001</td>\n",
       "      <td>-0.001001</td>\n",
       "      <td>-0.001001</td>\n",
       "      <td>-0.001001</td>\n",
       "      <td>-0.001001</td>\n",
       "      <td>-0.001001</td>\n",
       "      <td>-0.001001</td>\n",
       "      <td>-0.001001</td>\n",
       "      <td>...</td>\n",
       "      <td>-0.223799</td>\n",
       "      <td>-0.216837</td>\n",
       "      <td>-0.210296</td>\n",
       "      <td>-0.204140</td>\n",
       "      <td>-0.198336</td>\n",
       "      <td>-0.192855</td>\n",
       "      <td>-0.187670</td>\n",
       "      <td>-0.182757</td>\n",
       "      <td>-0.178097</td>\n",
       "      <td>-0.173669</td>\n",
       "    </tr>\n",
       "  </tbody>\n",
       "</table>\n",
       "<p>5 rows × 40 columns</p>\n",
       "</div>"
      ],
      "text/plain": [
       "         0         1         2         3         4         5         6   \\\n",
       "0 -0.001001 -0.001001 -0.001001 -0.001001 -0.001001 -0.001001 -0.001001   \n",
       "1 -0.001001 -0.001001 -0.001001 -0.001001 -0.001001 -0.001001 -0.001001   \n",
       "2 -0.001001 -0.001001 -0.001001 -0.001001 -0.001001 -0.001001 -0.001001   \n",
       "3 -0.001001 -0.001001 -0.001001 -0.001001 -0.001001 -0.001001 -0.001001   \n",
       "4 -0.001001 -0.001001 -0.001001 -0.001001 -0.001001 -0.001001 -0.001001   \n",
       "\n",
       "         7         8         9   ...        30        31        32        33  \\\n",
       "0 -0.001001 -0.001001 -0.691676  ... -0.892195 -0.864345 -0.838183 -0.813560   \n",
       "1 -0.001001 -0.001001 -0.001001  ... -0.223799 -0.216837 -0.210296 -0.204140   \n",
       "2 -0.001001 -0.001001 -0.001001  ... -0.001001 -0.001001 -0.001001 -0.001001   \n",
       "3 -0.001001 -0.001001 -0.001001  ... -0.001001 -0.001001 -0.001001 -0.001001   \n",
       "4 -0.001001 -0.001001 -0.001001  ... -0.223799 -0.216837 -0.210296 -0.204140   \n",
       "\n",
       "         34        35        36        37        38        39  \n",
       "0 -0.790344 -0.768418 -0.747677 -0.728027 -0.709386 -0.691676  \n",
       "1 -0.198336 -0.192855 -0.187670 -0.182757 -0.178097 -0.173669  \n",
       "2 -0.001001 -0.001001 -0.001001 -0.001001 -0.001001 -0.001001  \n",
       "3 -0.001001 -0.001001 -0.001001 -0.001001 -0.001001 -0.001001  \n",
       "4 -0.198336 -0.192855 -0.187670 -0.182757 -0.178097 -0.173669  \n",
       "\n",
       "[5 rows x 40 columns]"
      ]
     },
     "execution_count": 42,
     "metadata": {},
     "output_type": "execute_result"
    }
   ],
   "source": [
    "df.head()"
   ]
  },
  {
   "cell_type": "code",
   "execution_count": 31,
   "metadata": {},
   "outputs": [],
   "source": [
    "# Write df to a csv called \"df_N40_R500.csv\", no row names\n",
    "df.to_csv(f\"df_N{N+1}_{num_people}worlds_{governing_prob}governing_{forecast_prob}forecast.csv\", index=False)"
   ]
  },
  {
   "cell_type": "code",
   "execution_count": 32,
   "metadata": {},
   "outputs": [
    {
     "data": {
      "image/png": "[encoded data removed]",
      "text/plain": [
       "<Figure size 640x480 with 1 Axes>"
      ]
     },
     "metadata": {},
     "output_type": "display_data"
    }
   ],
   "source": [
    "# Create line plots for median, mean, and percentile\n",
    "N_values = range(N)\n",
    "plt.scatter(N_values, medians, color='red', label='Median', marker = '+', alpha = 0.4)\n",
    "plt.scatter(N_values, means, color='green', label='Mean', marker = 6, alpha = 0.4)\n",
    "plt.scatter(N_values, percentiles, color='orange', label='90th Percentile', marker = 'x', alpha = 0.4)\n",
    "\n",
    "# Set the labels for the x and y axes\n",
    "plt.xlabel('N')\n",
    "plt.ylabel('Average Log Score')\n",
    "\n",
    "# Add a legend\n",
    "plt.legend()\n",
    "\n",
    "# Display the plot\n",
    "plt.show()"
   ]
  },
  {
   "cell_type": "code",
   "execution_count": 33,
   "metadata": {},
   "outputs": [
    {
     "data": {
      "image/png": "[encoded data removed]",
      "text/plain": [
       "<Figure size 640x480 with 1 Axes>"
      ]
     },
     "metadata": {},
     "output_type": "display_data"
    }
   ],
   "source": [
    "# On top of that, plot faintly all the log score dots (df) individually, in a column for each N\n",
    "for N in range(1, N):\n",
    "    plt.scatter([N] * num_people, df[N-1], color='blue', alpha=0.1)"
   ]
  }
 ],
 "metadata": {
  "kernelspec": {
   "display_name": "Python 3",
   "language": "python",
   "name": "python3"
  },
  "language_info": {
   "codemirror_mode": {
    "name": "ipython",
    "version": 3
   },
   "file_extension": ".py",
   "mimetype": "text/x-python",
   "name": "python",
   "nbconvert_exporter": "python",
   "pygments_lexer": "ipython3",
   "version": "3.11.4"
  }
 },
 "nbformat": 4,
 "nbformat_minor": 2
}
